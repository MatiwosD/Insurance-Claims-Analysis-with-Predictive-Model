{
 "cells": [
  {
   "cell_type": "code",
   "execution_count": 2,
   "metadata": {},
   "outputs": [],
   "source": [
    "import pandas as pd\n",
    "import numpy as np\n",
    "from scipy.stats import chi2_contingency, ttest_ind"
   ]
  },
  {
   "cell_type": "code",
   "execution_count": 8,
   "metadata": {},
   "outputs": [],
   "source": [
    "# Load the data\n",
    "file_path = '../data/MachineLearningRating_v3.txt'"
   ]
  },
  {
   "cell_type": "code",
   "execution_count": 9,
   "metadata": {},
   "outputs": [],
   "source": [
    "# Load data from txt file with '|' separator\n",
    "data = pd.read_csv('../data/MachineLearningRating_v3.txt', sep='|', low_memory=False)"
   ]
  },
  {
   "cell_type": "code",
   "execution_count": null,
   "metadata": {},
   "outputs": [],
   "source": [
    "# Function to perform chi-squared test\n",
    "def chi_squared_test(group_a, group_b):\n",
    "    contingency_table = pd.crosstab(group_a, group_b)\n",
    "    chi2, p, dof, expected = chi2_contingency(contingency_table)\n",
    "    return chi2, p"
   ]
  },
  {
   "cell_type": "code",
   "execution_count": null,
   "metadata": {},
   "outputs": [],
   "source": [
    "# Function to perform t-test\n",
    "def t_test(group_a, group_b):\n",
    "    t_stat, p = ttest_ind(group_a, group_b, equal_var=False)\n",
    "    return t_stat, p"
   ]
  },
  {
   "cell_type": "code",
   "execution_count": null,
   "metadata": {},
   "outputs": [],
   "source": [
    "# Hypothesis 1: Risk differences across provinces\n",
    "print(\"Hypothesis 1: Risk differences across provinces\")\n",
    "province_risks = data.groupby('province')['risk'].mean()\n",
    "chi2, p = chi_squared_test(data['province'], data['risk'])\n",
    "print(f\"Chi-squared test statistic: {chi2}, p-value: {p}\")"
   ]
  },
  {
   "cell_type": "code",
   "execution_count": null,
   "metadata": {},
   "outputs": [],
   "source": [
    "# Hypothesis 2: Risk differences between zipcodes\n",
    "print(\"\\nHypothesis 2: Risk differences between zipcodes\")\n",
    "zipcode_risks = data.groupby('zipcode')['risk'].mean()\n",
    "chi2, p = chi_squared_test(data['zipcode'], data['risk'])\n",
    "print(f\"Chi-squared test statistic: {chi2}, p-value: {p}\")"
   ]
  },
  {
   "cell_type": "code",
   "execution_count": null,
   "metadata": {},
   "outputs": [],
   "source": [
    "# Hypothesis 3: Margin differences between zipcodes\n",
    "print(\"\\nHypothesis 3: Margin differences between zipcodes\")\n",
    "zipcode_margins = data.groupby('zipcode')['margin'].mean()\n",
    "group_a = data[data['zipcode'] == 'zip_a']['margin']\n",
    "group_b = data[data['zipcode'] == 'zip_b']['margin']\n",
    "t_stat, p = t_test(group_a, group_b)\n",
    "print(f\"T-test statistic: {t_stat}, p-value: {p}\")"
   ]
  },
  {
   "cell_type": "code",
   "execution_count": null,
   "metadata": {},
   "outputs": [],
   "source": [
    "# Hypothesis 4: Risk differences between Women and Men\n",
    "print(\"\\nHypothesis 4: Risk differences between Women and Men\")\n",
    "group_a = data[data['gender'] == 'Female']['risk']\n",
    "group_b = data[data['gender'] == 'Male']['risk']\n",
    "t_stat, p = t_test(group_a, group_b)\n",
    "print(f\"T-test statistic: {t_stat}, p-value: {p}\")"
   ]
  },
  {
   "cell_type": "code",
   "execution_count": null,
   "metadata": {},
   "outputs": [],
   "source": [
    "# Analyze and Report\n",
    "def analyze_results(p_value, hypothesis):\n",
    "    if p_value < 0.05:\n",
    "        print(f\"Reject the null hypothesis for {hypothesis}. There is a significant effect.\")\n",
    "    else:\n",
    "        print(f\"Fail to reject the null hypothesis for {hypothesis}. No significant effect detected.\")\n",
    "\n",
    "analyze_results(p, \"Hypothesis 1: Risk differences across provinces\")\n",
    "analyze_results(p, \"Hypothesis 2: Risk differences between zipcodes\")\n",
    "analyze_results(p, \"Hypothesis 3: Margin differences between zipcodes\")\n",
    "analyze_results(p, \"Hypothesis 4: Risk differences between Women and Men\")"
   ]
  }
 ],
 "metadata": {
  "kernelspec": {
   "display_name": ".venv",
   "language": "python",
   "name": "python3"
  },
  "language_info": {
   "codemirror_mode": {
    "name": "ipython",
    "version": 3
   },
   "file_extension": ".py",
   "mimetype": "text/x-python",
   "name": "python",
   "nbconvert_exporter": "python",
   "pygments_lexer": "ipython3",
   "version": "3.12.2"
  }
 },
 "nbformat": 4,
 "nbformat_minor": 2
}
